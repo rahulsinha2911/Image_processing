{
 "cells": [
  {
   "cell_type": "code",
   "execution_count": 1,
   "metadata": {},
   "outputs": [],
   "source": [
    "import numpy as np \n",
    "import matplotlib.pyplot as plt \n",
    "import matplotlib.image as img \n",
    "from scipy import misc \n",
    "import cv2 \n",
    "import pywt"
   ]
  },
  {
   "cell_type": "code",
   "execution_count": 2,
   "metadata": {},
   "outputs": [
    {
     "name": "stdout",
     "output_type": "stream",
     "text": [
      "Image Dimension    :  (512, 512)\n",
      "Image Dimension    :  (600, 600)\n"
     ]
    }
   ],
   "source": [
    "coverImage = cv2.imread('baboon.png',0)\n",
    "watermarkImage = cv2.imread('Fig1135(a)(random_matches).tif',0)\n",
    "\n",
    "# get dimensions of image\n",
    "dimensions1 = coverImage.shape\n",
    "dimensions2 = watermarkImage.shape\n",
    " \n",
    "print('Image Dimension    : ',dimensions1)\n",
    "print('Image Dimension    : ',dimensions2)\n",
    "\n",
    " \n",
    "\n",
    "cv2.imshow('coverpic',coverImage);\n",
    "cv2.imshow('wp',watermarkImage);\n",
    "cv2.waitKey(0)\n",
    "cv2.destroyAllWindows()\n"
   ]
  },
  {
   "cell_type": "code",
   "execution_count": 3,
   "metadata": {},
   "outputs": [],
   "source": [
    "coverImage = cv2.resize(coverImage,(300,300))\n",
    "cv2.imshow('Cover Image',coverImage)\n",
    "\n",
    "watermarkImage = cv2.resize(watermarkImage,(150,150))\n",
    "cv2.imshow('Watermark Image',watermarkImage)\n",
    "\n",
    "\n",
    "cv2.waitKey(0)\n",
    "cv2.destroyAllWindows()\n"
   ]
  },
  {
   "cell_type": "code",
   "execution_count": 4,
   "metadata": {},
   "outputs": [],
   "source": [
    " #DWT on cover image\n",
    "coverImage =  np.float32(coverImage)   \n",
    "coverImage /= 255;\n",
    "coeffC = pywt.dwt2(coverImage, 'haar')\n",
    "cA,(cH, cV, cD) = coeffC\n",
    "\n",
    "watermarkImage = np.float32(watermarkImage)\n",
    "watermarkImage /= 255;\n"
   ]
  },
  {
   "cell_type": "code",
   "execution_count": null,
   "metadata": {},
   "outputs": [],
   "source": [
    "#Embedding\n",
    "coeffW = (0.4*cA + 0.1*watermarkImage, (cH, cV, cD))\n",
    "watermarkedImage = pywt.idwt2(coeffW, 'haar')\n",
    "cv2.imshow('Watermarked Image', watermarkedImage)\n",
    "cv2.waitKey(0)\n",
    "cv2.destroyAllWindows()"
   ]
  },
  {
   "cell_type": "code",
   "execution_count": null,
   "metadata": {},
   "outputs": [],
   "source": [
    " #Extraction\n",
    "coeffWM = pywt.dwt2(watermarkedImage, 'haar')\n",
    "hA, (hH, hV, hD) = coeffWM\n",
    "\n",
    "extracted = (hA-0.4*cA)/0.1\n",
    "extracted *= 255\n",
    "extracted = np.uint8(extracted)\n",
    "cv2.imshow('Extracted', extracted)\n",
    "cv2.waitKey(0)\n",
    "cv2.destroyAllWindows()"
   ]
  },
  {
   "cell_type": "code",
   "execution_count": null,
   "metadata": {},
   "outputs": [],
   "source": [
    "cv2.waitKey(0)\n",
    "cv2.destroyAllWindows()"
   ]
  },
  {
   "cell_type": "code",
   "execution_count": null,
   "metadata": {},
   "outputs": [],
   "source": []
  }
 ],
 "metadata": {
  "kernelspec": {
   "display_name": "Python 3",
   "language": "python",
   "name": "python3"
  },
  "language_info": {
   "codemirror_mode": {
    "name": "ipython",
    "version": 3
   },
   "file_extension": ".py",
   "mimetype": "text/x-python",
   "name": "python",
   "nbconvert_exporter": "python",
   "pygments_lexer": "ipython3",
   "version": "3.7.3"
  }
 },
 "nbformat": 4,
 "nbformat_minor": 2
}
